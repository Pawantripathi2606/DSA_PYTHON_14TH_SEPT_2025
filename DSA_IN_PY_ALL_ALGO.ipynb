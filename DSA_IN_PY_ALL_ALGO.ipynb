{
  "nbformat": 4,
  "nbformat_minor": 0,
  "metadata": {
    "colab": {
      "provenance": [],
      "authorship_tag": "ABX9TyOFTBdkZqikHoYg4GEAzI5B",
      "include_colab_link": true
    },
    "kernelspec": {
      "name": "python3",
      "display_name": "Python 3"
    },
    "language_info": {
      "name": "python"
    }
  },
  "cells": [
    {
      "cell_type": "markdown",
      "metadata": {
        "id": "view-in-github",
        "colab_type": "text"
      },
      "source": [
        "<a href=\"https://colab.research.google.com/github/Pawantripathi2606/DSA_PYTHON_14TH_SEPT_2025/blob/main/DSA_IN_PY_ALL_ALGO.ipynb\" target=\"_parent\"><img src=\"https://colab.research.google.com/assets/colab-badge.svg\" alt=\"Open In Colab\"/></a>"
      ]
    },
    {
      "cell_type": "markdown",
      "source": [
        "# **ALGORITHM OF BUBBLE SORT **"
      ],
      "metadata": {
        "id": "4Py6SwbRMEbD"
      }
    },
    {
      "cell_type": "code",
      "execution_count": null,
      "metadata": {
        "id": "7qPZUWWfs_Zj"
      },
      "outputs": [],
      "source": [
        "# bubble sort\n",
        "\n",
        "def bubble(arr):\n",
        "  n = len(arr)\n",
        "\n",
        "  for i in range(n-1):\n",
        "    for j in range(n-i-1):\n",
        "      if arr[j]>arr[j+1]:\n",
        "        arr[j],arr[j+1]=arr[j+1],arr[j]\n"
      ]
    },
    {
      "cell_type": "code",
      "source": [
        "arr = [24,54,2,7,8,4,233]\n",
        "print(arr)\n",
        "\n",
        "\n",
        "bubble(arr)\n",
        "print(arr)"
      ],
      "metadata": {
        "colab": {
          "base_uri": "https://localhost:8080/"
        },
        "id": "iiVICJDgtrz9",
        "outputId": "b802f1df-914f-44ed-e5a6-03165aacc158"
      },
      "execution_count": null,
      "outputs": [
        {
          "output_type": "stream",
          "name": "stdout",
          "text": [
            "[24, 54, 2, 7, 8, 4, 233]\n",
            "[2, 4, 7, 8, 24, 54, 233]\n"
          ]
        }
      ]
    },
    {
      "cell_type": "markdown",
      "source": [
        "## BASIC LOGIC TO GET COUNT OF NO OF SWAPS\n"
      ],
      "metadata": {
        "id": "PF7rLSHyMSYr"
      }
    },
    {
      "cell_type": "code",
      "source": [
        "# returning the count of swap\n",
        "\n",
        "\n",
        "def bubble_sort_swap_count(arr):\n",
        "  n = len(arr)\n",
        "  count = 0\n",
        "\n",
        "  for i in range(n-1):\n",
        "    is_sorted = True\n",
        "\n",
        "    for j in range(n-i-1):\n",
        "      if arr[j]>arr[j+1]:\n",
        "        arr[j],arr[j+1]=arr[j+1],arr[j]\n",
        "        is_sorted = False\n",
        "        count = count + 1\n",
        "\n",
        "    if is_sorted:\n",
        "      break\n",
        "\n",
        "  return count\n",
        "\n",
        "\n"
      ],
      "metadata": {
        "id": "dEYDuc2St08B"
      },
      "execution_count": null,
      "outputs": []
    },
    {
      "cell_type": "code",
      "source": [
        "arr = [24,54,2,7,8,4,233]\n",
        "#print(arr)\n",
        "\n",
        "#bubble_sort_swap_count(arr)\n",
        "print(bubble_sort_swap_count(arr))\n",
        "bubble_sort_swap_count(arr)\n",
        "print(arr)\n",
        "\n",
        "\n",
        "\n",
        "#arr1 = [1,2,3,4,5]\n",
        "#print(arr1)\n",
        "#bubble_sort_swap_count(arr1)\n",
        "#print(arr1)\n",
        "\n",
        "\n",
        "#print(bubble_sort_swap_count(arr1))"
      ],
      "metadata": {
        "colab": {
          "base_uri": "https://localhost:8080/"
        },
        "id": "MdeJ_asjJwrF",
        "outputId": "195cbbc3-1021-4d24-f242-2f9c77301889"
      },
      "execution_count": null,
      "outputs": [
        {
          "output_type": "stream",
          "name": "stdout",
          "text": [
            "10\n",
            "[2, 4, 7, 8, 24, 54, 233]\n"
          ]
        }
      ]
    },
    {
      "cell_type": "markdown",
      "source": [
        "# **sorting a string in descending order off values after removal of values smaller then  X **\n",
        "\n",
        "\n",
        "#approch--\n",
        "1. convert the string into list\n",
        "2. slpit them\n",
        "3. remove all entites less then [50]\n",
        "4. sort the list based on number / else based on string\n",
        "5. join them"
      ],
      "metadata": {
        "id": "cv0W0Tb8ei8m"
      }
    },
    {
      "cell_type": "code",
      "source": [
        "def sort_the_string(str,x):\n",
        "\n",
        "  #creating the list and spliting them\n",
        "  my_list= str.split()\n",
        "\n",
        "  n= len(my_list)\n",
        "  # remove the pair valus having less then to the given number\n",
        "\n",
        "  for i in range(n-1,0,-2):\n",
        "    if int(my_list[i])<x:\n",
        "      del(my_list[i-1:i+1])\n",
        "\n",
        "\n",
        "      n= len(my_list)\n",
        "\n",
        "\n",
        "\n",
        "      # sort the given list elements\n",
        "  for i in range(1,n,2):\n",
        "    for j in range(i,n-i,2):\n",
        "\n",
        "      if my_list[j]<my_list[j+2] or my_list[j-1]  < my_list[j+1] and my_list[j] == my_list[j+2]:\n",
        "\n",
        "        #swap\n",
        "\n",
        "\n",
        "        my_list[j],my_list[j+2] = my_list[j+2], my_list[j]\n",
        "        my_list[j-1] , my_list[j+1] = my_list[j+1], my_list[j-1]\n",
        "\n",
        "  return \" \".join(my_list)\n",
        "\n",
        "str = \"akshay 34 pawan 93 shubham 88 priya 77 sumit 49\"\n",
        "print(sort_the_string(str,50))\n",
        "\n",
        "\n",
        "\n"
      ],
      "metadata": {
        "colab": {
          "base_uri": "https://localhost:8080/"
        },
        "collapsed": true,
        "id": "0VCv3HyDKEER",
        "outputId": "a129bb73-fc08-413c-cd88-37c6385ced0c"
      },
      "execution_count": null,
      "outputs": [
        {
          "output_type": "stream",
          "name": "stdout",
          "text": [
            "pawan 93 shubham 88 priya 77\n"
          ]
        }
      ]
    },
    {
      "cell_type": "markdown",
      "source": [
        "# push zeros to the end while maintaining the relative order of other elements\n",
        "\n",
        "# leetcode problem = 283 move zeros"
      ],
      "metadata": {
        "id": "8YOvQ3Y7Tvn1"
      }
    },
    {
      "cell_type": "code",
      "source": [
        "def push_zeros_to_end(arr):\n",
        "  j= 0\n",
        "  for i in range(len(arr)):\n",
        "    if arr[i] != 0:\n",
        "      arr[j], arr[i] = arr[i], arr[j]\n",
        "      j += 1\n",
        "  return arr\n",
        "\n",
        "\n",
        "arr=[1,3,0,4,2,0,6,8]\n",
        "print(push_zeros_to_end(arr))\n"
      ],
      "metadata": {
        "colab": {
          "base_uri": "https://localhost:8080/"
        },
        "id": "DojxCE5XGuOo",
        "outputId": "9baf65fd-52d7-428a-8ff1-1495207f8490"
      },
      "execution_count": null,
      "outputs": [
        {
          "output_type": "stream",
          "name": "stdout",
          "text": [
            "[1, 3, 4, 2, 6, 8, 0, 0]\n"
          ]
        }
      ]
    },
    {
      "cell_type": "code",
      "source": [
        "# tipicaly  leetcode type sorting question\n",
        "def bubble_sort(arr):\n",
        "    n = len(arr)\n",
        "    for i in range(n - 1):\n",
        "        for j in range(n - i - 1):\n",
        "            if arr[j] > arr[j + 1]:\n",
        "                arr[j], arr[j + 1] = arr[j + 1], arr[j]\n",
        "    return arr\n",
        "\n",
        "# Input\n",
        "n = int(input())                # size of array\n",
        "arr = list(map(int, input().split()))  # array elements\n",
        "\n",
        "# Sort\n",
        "sorted_arr = bubble_sort(arr)\n",
        "\n",
        "# Output\n",
        "print(*sorted_arr)\n"
      ],
      "metadata": {
        "id": "z-fGk8CNYvtW",
        "colab": {
          "base_uri": "https://localhost:8080/"
        },
        "outputId": "54bcf93e-38a8-4d2f-f065-f0b9bae28d4a"
      },
      "execution_count": null,
      "outputs": [
        {
          "output_type": "stream",
          "name": "stdout",
          "text": [
            "3\n",
            "(1,6,7)\n",
            "1 6 7\n"
          ]
        }
      ]
    },
    {
      "cell_type": "markdown",
      "source": [
        "# selection sort\n",
        "\n",
        "approch - find smallest to your current element and swap it  "
      ],
      "metadata": {
        "id": "WIvdI1KEA5-Y"
      }
    },
    {
      "cell_type": "code",
      "source": [
        "def selection_sort(arr):\n",
        "\n",
        "  # check the size of the array\n",
        "\n",
        "  n = len(arr)\n",
        "\n",
        "  for i in range(n):\n",
        "    # assume the current first element is smallest\n",
        "\n",
        "    mid_index = i   # starting from 0\n",
        "\n",
        "    #next find the smallest element from the remaining unsorted array\n",
        "\n",
        "    for j in range(i+1,n):\n",
        "      if arr[j]<arr[mid_index]:\n",
        "        mid_index=j\n",
        "\n",
        "\n",
        "        # swap to the founded minimum element with the first element\n",
        "    arr[i],arr[mid_index]=arr[mid_index],arr[i]\n",
        "\n",
        "  return arr\n",
        "\n",
        "\n",
        "arr = [4,44,5,88,5,35,0]\n",
        "sorted_arr = selection_sort(arr)\n",
        "print(sorted_arr)\n"
      ],
      "metadata": {
        "colab": {
          "base_uri": "https://localhost:8080/"
        },
        "id": "G1M_oof8A5vK",
        "outputId": "d1f21e88-bea6-47e2-9e24-853f0fd2ef24"
      },
      "execution_count": null,
      "outputs": [
        {
          "output_type": "stream",
          "name": "stdout",
          "text": [
            "[0, 4, 5, 5, 35, 44, 88]\n"
          ]
        }
      ]
    },
    {
      "cell_type": "code",
      "source": [
        "# time complexity\n",
        "\n",
        "#outer loop n - times\n",
        "# inner loop for each iteration N se 1 tak\n",
        "\n",
        "\n",
        "#n-1,n-2,n-3 -------1 = n(n+1)/2 = O(n^2)\n"
      ],
      "metadata": {
        "id": "qfVOgk0SCkDR"
      },
      "execution_count": 1,
      "outputs": []
    },
    {
      "cell_type": "markdown",
      "source": [
        "**INSERTION SORT ALGORITHM**\n",
        "\n",
        "-START WITH FIRST ELEMENT , ASSUMING IT IS ALREADY SORTED\n",
        "\n",
        "- TAKE THEN NEXT ELEMENT AND COMPARE IT WITH THE ELEMENT IN THE SORTED SECTION , MOVING THEM ONE POSITION TO THE RIGHT TO MAKE SPACE IF NECESSARY\n",
        "\n",
        "\n",
        "- INSERT THE ELEMENT IN ITS CORRECT POSITION\n",
        "\n",
        "- REPEAT UNTIL ALL ELEMENT ARE SORTED"
      ],
      "metadata": {
        "id": "3lwHRXs6Xp7T"
      }
    },
    {
      "cell_type": "code",
      "source": [
        "def insertion_sort(arr):\n",
        "  # traverse through 1 to len(arr)\n",
        "  for i in range (1, len(arr)):\n",
        "      key = arr[i]\n",
        "      #j is initialized to the index of the last element in the sorted position of the array\n",
        "      j = i-1\n",
        "      # compare the key with elements in the sorted portion of the array\n",
        "\n",
        "      while j>=0 and key<arr[j]:\n",
        "        arr[j+1]=arr[j]\n",
        "        j-=1  # after swaping this will increment\n",
        "      arr[j+1]=key\n",
        "  return arr"
      ],
      "metadata": {
        "id": "z_mU0-y8Xm_W"
      },
      "execution_count": 1,
      "outputs": []
    },
    {
      "cell_type": "code",
      "source": [
        "arr = [12,-11,136,5,6]\n",
        "sorted_ar=insertion_sort(arr)\n",
        "print(sorted_ar)"
      ],
      "metadata": {
        "colab": {
          "base_uri": "https://localhost:8080/"
        },
        "id": "n2TrF9F6CU-8",
        "outputId": "cc5e8b37-c2e2-47f5-8e7b-005e847cea61"
      },
      "execution_count": 4,
      "outputs": [
        {
          "output_type": "stream",
          "name": "stdout",
          "text": [
            "[-11, 5, 6, 12, 136]\n"
          ]
        }
      ]
    },
    {
      "cell_type": "code",
      "source": [],
      "metadata": {
        "id": "c-X4g2izE_Ns"
      },
      "execution_count": null,
      "outputs": []
    }
  ]
}