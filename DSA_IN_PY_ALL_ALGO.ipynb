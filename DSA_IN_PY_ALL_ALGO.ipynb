{
  "nbformat": 4,
  "nbformat_minor": 0,
  "metadata": {
    "colab": {
      "provenance": [],
      "authorship_tag": "ABX9TyOz/AlQRM8rn+VM09ImSeas",
      "include_colab_link": true
    },
    "kernelspec": {
      "name": "python3",
      "display_name": "Python 3"
    },
    "language_info": {
      "name": "python"
    }
  },
  "cells": [
    {
      "cell_type": "markdown",
      "metadata": {
        "id": "view-in-github",
        "colab_type": "text"
      },
      "source": [
        "<a href=\"https://colab.research.google.com/github/Pawantripathi2606/DSA_PYTHON_14TH_SEPT_2025/blob/main/DSA_IN_PY_ALL_ALGO.ipynb\" target=\"_parent\"><img src=\"https://colab.research.google.com/assets/colab-badge.svg\" alt=\"Open In Colab\"/></a>"
      ]
    },
    {
      "cell_type": "markdown",
      "source": [
        "# **ALGORITHM OF BUBBLE SORT **"
      ],
      "metadata": {
        "id": "4Py6SwbRMEbD"
      }
    },
    {
      "cell_type": "code",
      "execution_count": 7,
      "metadata": {
        "id": "7qPZUWWfs_Zj"
      },
      "outputs": [],
      "source": [
        "# bubble sort\n",
        "\n",
        "def bubble(arr):\n",
        "  n = len(arr)\n",
        "\n",
        "  for i in range(n-1):\n",
        "    for j in range(n-i-1):\n",
        "      if arr[j]>arr[j+1]:\n",
        "        arr[j],arr[j+1]=arr[j+1],arr[j]\n"
      ]
    },
    {
      "cell_type": "code",
      "source": [
        "arr = [24,54,2,7,8,4,233]\n",
        "print(arr)\n",
        "\n",
        "\n",
        "bubble(arr)\n",
        "print(arr)"
      ],
      "metadata": {
        "colab": {
          "base_uri": "https://localhost:8080/"
        },
        "id": "iiVICJDgtrz9",
        "outputId": "aecdf2cc-3144-4353-813b-56b35b9c9b50"
      },
      "execution_count": 8,
      "outputs": [
        {
          "output_type": "stream",
          "name": "stdout",
          "text": [
            "[24, 54, 2, 7, 8, 4, 233]\n",
            "[2, 4, 7, 8, 24, 54, 233]\n"
          ]
        }
      ]
    },
    {
      "cell_type": "markdown",
      "source": [
        "## BASIC LOGIC TO GET COUNT OF NO OF SWAPS\n"
      ],
      "metadata": {
        "id": "PF7rLSHyMSYr"
      }
    },
    {
      "cell_type": "code",
      "source": [
        "# returning the count of swap\n",
        "\n",
        "\n",
        "def bubble_sort_swap_count(arr):\n",
        "  n = len(arr)\n",
        "  count = 0\n",
        "\n",
        "  for i in range(n-1):\n",
        "    is_sorted = True\n",
        "\n",
        "    for j in range(n-i-1):\n",
        "      if arr[j]>arr[j+1]:\n",
        "        arr[j],arr[j+1]=arr[j+1],arr[j]\n",
        "        is_sorted = False\n",
        "        count = count + 1\n",
        "\n",
        "    if is_sorted:\n",
        "      break\n",
        "\n",
        "  return count\n",
        "\n",
        "\n",
        ""
      ],
      "metadata": {
        "id": "dEYDuc2St08B"
      },
      "execution_count": 13,
      "outputs": []
    },
    {
      "cell_type": "code",
      "source": [
        "arr = [24,54,2,7,8,4,233]\n",
        "#print(arr)\n",
        "\n",
        "#bubble_sort_swap_count(arr)\n",
        "print(bubble_sort_swap_count(arr))\n",
        "bubble_sort_swap_count(arr)\n",
        "print(arr)\n",
        "\n",
        "\n",
        "\n",
        "#arr1 = [1,2,3,4,5]\n",
        "#print(arr1)\n",
        "#bubble_sort_swap_count(arr1)\n",
        "#print(arr1)\n",
        "\n",
        "\n",
        "#print(bubble_sort_swap_count(arr1))"
      ],
      "metadata": {
        "colab": {
          "base_uri": "https://localhost:8080/"
        },
        "id": "MdeJ_asjJwrF",
        "outputId": "70519393-ec67-4969-a9ed-2c56ed5f6261"
      },
      "execution_count": 19,
      "outputs": [
        {
          "output_type": "stream",
          "name": "stdout",
          "text": [
            "10\n",
            "[2, 4, 7, 8, 24, 54, 233]\n"
          ]
        }
      ]
    },
    {
      "cell_type": "code",
      "source": [],
      "metadata": {
        "id": "0VCv3HyDKEER"
      },
      "execution_count": null,
      "outputs": []
    }
  ]
}